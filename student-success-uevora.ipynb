{
 "cells": [
  {
   "cell_type": "markdown",
   "id": "adolescent-physics",
   "metadata": {
    "slideshow": {
     "slide_type": "notes"
    }
   },
   "source": [
    "# Aprendizagem Automática - Student Sucess Uevora\n",
    "\n",
    "- Teachers: Teresa Gonçalves, Luis Rato\n",
    "- Made by: Miguel de Carvalho (43108), João Pereira(42864)"
   ]
  },
  {
   "cell_type": "markdown",
   "id": "printable-seeker",
   "metadata": {},
   "source": [
    "## Add necessary imports for our code"
   ]
  },
  {
   "cell_type": "code",
   "execution_count": 1,
   "id": "sunrise-baking",
   "metadata": {},
   "outputs": [],
   "source": [
    "import pandas as pd\n",
    "import numpy as np\n",
    "import itertools\n",
    "import matplotlib.pyplot as plt\n",
    "from sklearn.model_selection import cross_val_score\n",
    "from sklearn.model_selection import GridSearchCV\n",
    "from sklearn.metrics import confusion_matrix\n",
    "from IPython.display import display\n",
    "from sklearn import metrics"
   ]
  },
  {
   "cell_type": "markdown",
   "id": "respective-boring",
   "metadata": {},
   "source": [
    "## Funcion that reads and parse our data"
   ]
  },
  {
   "cell_type": "code",
   "execution_count": 2,
   "id": "peaceful-mainland",
   "metadata": {},
   "outputs": [],
   "source": [
    "def data_treatment(file):\n",
    "    data = pd.read_csv(file, header=0)\n",
    "    if(file=='train.csv'):\n",
    "        data.drop('Id',axis=1,inplace=True) \n",
    "        enconde = {\"Program\": {\"Informatics\": 0, \"Nursing\": 1, \"Management\": 2, \"Biology\": 3}}\n",
    "        data = data.replace(enconde)\n",
    "        y_data = data[['Failure']].copy()\n",
    "        data.drop('Failure',axis=1,inplace=True)\n",
    "        x_data = data.copy()\n",
    "        return x_data,y_data\n",
    "    else:\n",
    "        save = data['Id'].copy()\n",
    "        data.drop('Id',axis=1,inplace=True) \n",
    "        enconde = {\"Program\": {\"Informatics\": 0, \"Nursing\": 1, \"Management\": 2, \"Biology\": 3}}\n",
    "        data = data.replace(enconde)\n",
    "        return data,save\n",
    "\n",
    "x_train,y_train = data_treatment('train.csv')\n",
    "x_test,id_column = data_treatment('test.csv')"
   ]
  },
  {
   "cell_type": "markdown",
   "id": "departmental-bulgarian",
   "metadata": {},
   "source": [
    "## Testing with different Models "
   ]
  },
  {
   "cell_type": "markdown",
   "id": "accredited-ontario",
   "metadata": {},
   "source": [
    "### GradientBoostingClassifier \n",
    "\n",
    "The first model we used was GradientBoosting"
   ]
  },
  {
   "cell_type": "code",
   "execution_count": 3,
   "id": "single-spank",
   "metadata": {},
   "outputs": [],
   "source": [
    "from sklearn.ensemble import GradientBoostingClassifier "
   ]
  },
  {
   "cell_type": "markdown",
   "id": "vietnamese-african",
   "metadata": {},
   "source": [
    "#### Choosing the best Parameters\n",
    "\n",
    "We will test each parameter and try to get the best of each one"
   ]
  },
  {
   "cell_type": "markdown",
   "id": "advisory-possible",
   "metadata": {},
   "source": [
    "##### Parameter \"learning_rate\"\n",
    "\n",
    "learning_rate shrinks the contribution of each tree by learning_rate."
   ]
  },
  {
   "cell_type": "code",
   "execution_count": 4,
   "id": "initial-europe",
   "metadata": {
    "scrolled": true
   },
   "outputs": [
    {
     "name": "stdout",
     "output_type": "stream",
     "text": [
      "learning_rate: 0.01, train_accuracy: 0.9198266522210184 ,test_accuracy: 0.9144153936545241\n",
      "learning_rate: 0.11, train_accuracy: 0.9637053087757314 ,test_accuracy: 0.9447444183313749\n",
      "learning_rate: 0.21000000000000002, train_accuracy: 0.9707475622968581 ,test_accuracy: 0.9452849588719154\n",
      "learning_rate: 0.31000000000000005, train_accuracy: 0.9821235102925244 ,test_accuracy: 0.9436574618096358\n",
      "learning_rate: 0.41000000000000003, train_accuracy: 0.9886240520043337 ,test_accuracy: 0.9431139835487663\n",
      "learning_rate: 0.51, train_accuracy: 0.9897074756229686 ,test_accuracy: 0.9425851938895417\n",
      "learning_rate: 0.6100000000000001, train_accuracy: 0.985373781148429 ,test_accuracy: 0.9425881316098706\n",
      "learning_rate: 0.7100000000000001, train_accuracy: 0.991332611050921 ,test_accuracy: 0.9414923619271447\n",
      "learning_rate: 0.81, train_accuracy: 0.9929577464788732 ,test_accuracy: 0.9393272620446533\n",
      "learning_rate: 0.91, train_accuracy: 0.9918743228602384 ,test_accuracy: 0.9186839012925969\n",
      "learning_rate: 1.01, train_accuracy: 0.9972914409534128 ,test_accuracy: 0.934997062279671\n",
      "learning_rate: 1.11, train_accuracy: 0.995124593716143 ,test_accuracy: 0.8900910693301999\n",
      "learning_rate: 1.2100000000000002, train_accuracy: 0.9994582881906826 ,test_accuracy: 0.9198061104582844\n",
      "learning_rate: 1.31, train_accuracy: 0.9989165763813651 ,test_accuracy: 0.8560105757931845\n",
      "learning_rate: 1.4100000000000001, train_accuracy: 0.9387865655471289 ,test_accuracy: 0.756792009400705\n",
      "learning_rate: 1.51, train_accuracy: 0.7291440953412784 ,test_accuracy: 0.6545505287896592\n",
      "learning_rate: 1.61, train_accuracy: 0.7746478873239436 ,test_accuracy: 0.5633519388954171\n",
      "learning_rate: 1.7100000000000002, train_accuracy: 0.3477789815817985 ,test_accuracy: 0.6361075205640423\n",
      "learning_rate: 1.81, train_accuracy: 0.27085590465872156 ,test_accuracy: 0.4600029377203291\n",
      "learning_rate: 1.9100000000000001, train_accuracy: 0.4322860238353196 ,test_accuracy: 0.42031139835487663\n"
     ]
    },
    {
     "data": {
      "image/png": "[encoded data removed]",
      "text/plain": [
       "<Figure size 432x288 with 1 Axes>"
      ]
     },
     "metadata": {
      "needs_background": "light"
     },
     "output_type": "display_data"
    }
   ],
   "source": [
    "min_learning = 0.01\n",
    "max_learning = 1\n",
    "inc_learning = int((max_learning-min_learning)/10)\n",
    "n_learning = np.arange(min_learning,max_learning+1,0.10)\n",
    "vali_results = []\n",
    "train_results = []\n",
    "\n",
    "for learning in n_learning:\n",
    "    model = GradientBoostingClassifier(n_estimators=138,learning_rate=learning, max_depth=3, min_samples_split=0.7, min_samples_leaf=7, max_features=8)\n",
    "    scores = cross_val_score(model, x_train, y_train.values.ravel(), cv=10, scoring='accuracy')\n",
    "    model.fit(x_train,y_train.values.ravel())\n",
    "    train_score = model.score(x_train,y_train)\n",
    "    train_results.append(train_score)\n",
    "    vali_results.append(scores.mean())\n",
    "    print(f\"learning_rate: {learning}, train_accuracy: {train_score} ,test_accuracy: {scores.mean()}\")\n",
    "\n",
    "\n",
    "from matplotlib.legend_handler import HandlerLine2D\n",
    "\n",
    "line1, = plt.plot(n_learning, vali_results, 'b', label=\"Test AUC\")\n",
    "line2, = plt.plot(n_learning, train_results , 'r', label=\"Train AUC\")\n",
    "plt.legend(handler_map={line1: HandlerLine2D(numpoints=2)})\n",
    "plt.ylabel(\"AUC score\")\n",
    "plt.xlabel('learning_rate')\n",
    "plt.show()"
   ]
  },
  {
   "cell_type": "markdown",
   "id": "subjective-romantic",
   "metadata": {},
   "source": [
    "##### Parameter \"n_estimators\"\n",
    "\n",
    "n_estimators represents the number of trees in the forest. Usually the higher the number of trees the better to learn the data. However, adding a lot of trees can slow down the training process considerably, therefore we do a parameter search to find the sweet spot."
   ]
  },
  {
   "cell_type": "code",
   "execution_count": 5,
   "id": "weekly-union",
   "metadata": {
    "scrolled": true
   },
   "outputs": [
    {
     "name": "stdout",
     "output_type": "stream",
     "text": [
      "n_estimators: 1, train_accuracy: 0.7291440953412784 ,test_accuracy: 0.7291421856639249\n",
      "n_estimators: 20, train_accuracy: 0.9274106175514626 ,test_accuracy: 0.9176615746180963\n",
      "n_estimators: 39, train_accuracy: 0.9436619718309859 ,test_accuracy: 0.9322767332549942\n",
      "n_estimators: 58, train_accuracy: 0.9507042253521126 ,test_accuracy: 0.9393301997649823\n",
      "n_estimators: 77, train_accuracy: 0.9566630552546046 ,test_accuracy: 0.9431227967097533\n",
      "n_estimators: 96, train_accuracy: 0.957204767063922 ,test_accuracy: 0.9431110458284371\n",
      "n_estimators: 115, train_accuracy: 0.9631635969664138 ,test_accuracy: 0.9490804935370152\n",
      "n_estimators: 134, train_accuracy: 0.9626218851570965 ,test_accuracy: 0.9458254994124559\n",
      "n_estimators: 153, train_accuracy: 0.9642470205850487 ,test_accuracy: 0.9469124559341952\n",
      "n_estimators: 172, train_accuracy: 0.9691224268689057 ,test_accuracy: 0.9485428907168038\n",
      "n_estimators: 191, train_accuracy: 0.9702058504875406 ,test_accuracy: 0.9458254994124561\n"
     ]
    },
    {
     "data": {
      "image/png": "[encoded data removed]",
      "text/plain": [
       "<Figure size 432x288 with 1 Axes>"
      ]
     },
     "metadata": {
      "needs_background": "light"
     },
     "output_type": "display_data"
    }
   ],
   "source": [
    "min_estimators = 1\n",
    "max_estimators = 200\n",
    "inc_estimators = int((max_estimators-min_estimators)/10)\n",
    "n_estimators = range(min_estimators,max_estimators+1,inc_estimators)\n",
    "vali_results = []\n",
    "train_results = []\n",
    "\n",
    "for estimator in n_estimators:\n",
    "    model = GradientBoostingClassifier(n_estimators=estimator,learning_rate=0.11, max_depth=3, min_samples_split=0.7, min_samples_leaf=7, max_features=8)\n",
    "    scores = cross_val_score(model, x_train, y_train.values.ravel(), cv=10, scoring='accuracy')\n",
    "    model.fit(x_train,y_train.values.ravel())\n",
    "    train_score = model.score(x_train,y_train)\n",
    "    train_results.append(train_score)\n",
    "    vali_results.append(scores.mean())\n",
    "    print(f\"n_estimators: {estimator}, train_accuracy: {train_score} ,test_accuracy: {scores.mean()}\")\n",
    "\n",
    "\n",
    "from matplotlib.legend_handler import HandlerLine2D\n",
    "\n",
    "line1, = plt.plot(n_estimators, vali_results, 'b', label=\"Test AUC\")\n",
    "line2, = plt.plot(n_estimators, train_results , 'r', label=\"Train AUC\")\n",
    "plt.legend(handler_map={line1: HandlerLine2D(numpoints=2)})\n",
    "plt.ylabel(\"AUC score\")\n",
    "plt.xlabel('n_estimators')\n",
    "plt.show()"
   ]
  },
  {
   "cell_type": "markdown",
   "id": "advised-destination",
   "metadata": {},
   "source": [
    "##### Parameter \"max_depth\"\n",
    "\n",
    "max_depth indicates how deep the built tree can be. The deeper the tree, the more splits it has and it captures more information about how the data. We fit a decision tree with depths ranging from 1 to 32 and plot the training and test errors."
   ]
  },
  {
   "cell_type": "code",
   "execution_count": 6,
   "id": "dynamic-disease",
   "metadata": {
    "scrolled": true
   },
   "outputs": [
    {
     "name": "stdout",
     "output_type": "stream",
     "text": [
      "max_depth: 1, train_accuracy: 0.9544962080173348 ,test_accuracy: 0.9425822561692128\n",
      "max_depth: 2, train_accuracy: 0.9577464788732394 ,test_accuracy: 0.9479964747356051\n",
      "max_depth: 3, train_accuracy: 0.9637053087757314 ,test_accuracy: 0.9463660399529965\n",
      "max_depth: 4, train_accuracy: 0.9680390032502708 ,test_accuracy: 0.9458225616921269\n",
      "max_depth: 5, train_accuracy: 0.9664138678223185 ,test_accuracy: 0.9474529964747356\n",
      "max_depth: 6, train_accuracy: 0.9664138678223185 ,test_accuracy: 0.9485370152761456\n",
      "max_depth: 7, train_accuracy: 0.9674972914409534 ,test_accuracy: 0.9469183313748533\n",
      "max_depth: 8, train_accuracy: 0.9664138678223185 ,test_accuracy: 0.9474529964747358\n",
      "max_depth: 9, train_accuracy: 0.9653304442036836 ,test_accuracy: 0.9479964747356051\n",
      "max_depth: 10, train_accuracy: 0.9685807150595883 ,test_accuracy: 0.9474559341950647\n"
     ]
    },
    {
     "data": {
      "image/png": "[encoded data removed]",
      "text/plain": [
       "<Figure size 432x288 with 1 Axes>"
      ]
     },
     "metadata": {
      "needs_background": "light"
     },
     "output_type": "display_data"
    }
   ],
   "source": [
    "min_depth = 1\n",
    "max_depth = 10\n",
    "inc_depth = int((max_depth-min_depth)/10)\n",
    "n_depth = np.arange(min_depth,max_depth+1,1)\n",
    "vali_results = []\n",
    "train_results = []\n",
    "\n",
    "for depth in n_depth:\n",
    "    model = GradientBoostingClassifier(n_estimators=138,learning_rate=0.1, max_depth=float(depth), min_samples_split=0.7, min_samples_leaf=7, max_features=8)\n",
    "    scores = cross_val_score(model, x_train, y_train.values.ravel(), cv=10, scoring='accuracy')\n",
    "    model.fit(x_train,y_train.values.ravel())\n",
    "    train_score = model.score(x_train,y_train)\n",
    "    train_results.append(train_score)\n",
    "    vali_results.append(scores.mean())\n",
    "    print(f\"max_depth: {depth}, train_accuracy: {train_score} ,test_accuracy: {scores.mean()}\")\n",
    "\n",
    "\n",
    "from matplotlib.legend_handler import HandlerLine2D\n",
    "\n",
    "line1, = plt.plot(n_depth, vali_results, 'b', label=\"Test AUC\")\n",
    "line2, = plt.plot(n_depth, train_results , 'r', label=\"Train AUC\")\n",
    "plt.legend(handler_map={line1: HandlerLine2D(numpoints=2)})\n",
    "plt.ylabel(\"AUC score\")\n",
    "plt.xlabel('max_depth')\n",
    "plt.show()"
   ]
  },
  {
   "cell_type": "markdown",
   "id": "threatened-cookbook",
   "metadata": {},
   "source": [
    "##### Parameter (min_samples_split)\n",
    "\n",
    "min_samples_split represents the minimum number of samples required to split an internal node. This can vary between considering at least one sample at each node to considering all of the samples at each node. When we increase this parameter, the tree becomes more constrained as it has to consider more samples at each node. Here we will vary the parameter from 10% to 100% of the samples"
   ]
  },
  {
   "cell_type": "code",
   "execution_count": 7,
   "id": "graduate-heather",
   "metadata": {},
   "outputs": [
    {
     "name": "stdout",
     "output_type": "stream",
     "text": [
      "min_samples_split: 0.1, train_accuracy: 0.9989165763813651 ,test_accuracy: 0.9425705052878965\n",
      "min_samples_split: 0.2, train_accuracy: 0.9967497291440953 ,test_accuracy: 0.9436574618096356\n",
      "min_samples_split: 0.30000000000000004, train_accuracy: 0.9918743228602384 ,test_accuracy: 0.9463719153936545\n",
      "min_samples_split: 0.4, train_accuracy: 0.9859154929577465 ,test_accuracy: 0.9501674500587545\n",
      "min_samples_split: 0.5, train_accuracy: 0.9745395449620802 ,test_accuracy: 0.9463631022326675\n",
      "min_samples_split: 0.6, train_accuracy: 0.9685807150595883 ,test_accuracy: 0.9474500587544066\n",
      "min_samples_split: 0.7000000000000001, train_accuracy: 0.9685807150595883 ,test_accuracy: 0.9490804935370154\n",
      "min_samples_split: 0.8, train_accuracy: 0.9631635969664138 ,test_accuracy: 0.945828437132785\n",
      "min_samples_split: 0.9, train_accuracy: 0.9544962080173348 ,test_accuracy: 0.9436574618096358\n",
      "min_samples_split: 1.0, train_accuracy: 0.9561213434452871 ,test_accuracy: 0.9425793184488838\n"
     ]
    },
    {
     "data": {
      "image/png": "[encoded data removed]",
      "text/plain": [
       "<Figure size 432x288 with 1 Axes>"
      ]
     },
     "metadata": {
      "needs_background": "light"
     },
     "output_type": "display_data"
    }
   ],
   "source": [
    "min_samples = 0.1\n",
    "max_samples = 1.1\n",
    "n_samples = np.arange(min_samples,max_samples,0.1)\n",
    "vali_results = []\n",
    "train_results = []\n",
    "\n",
    "for samples in n_samples:\n",
    "    model = GradientBoostingClassifier(n_estimators=138,learning_rate=0.1, max_depth=8, min_samples_split=samples, min_samples_leaf=7, max_features=8)\n",
    "    scores = cross_val_score(model, x_train, y_train.values.ravel(), cv=10, scoring='accuracy')\n",
    "    model.fit(x_train,y_train.values.ravel())\n",
    "    train_score = model.score(x_train,y_train)\n",
    "    train_results.append(train_score)\n",
    "    vali_results.append(scores.mean())\n",
    "    print(f\"min_samples_split: {samples}, train_accuracy: {train_score} ,test_accuracy: {scores.mean()}\")\n",
    "\n",
    "\n",
    "from matplotlib.legend_handler import HandlerLine2D\n",
    "\n",
    "line1, = plt.plot(n_samples, vali_results, 'b', label=\"Test AUC\")\n",
    "line2, = plt.plot(n_samples, train_results , 'r', label=\"Train AUC\")\n",
    "plt.legend(handler_map={line1: HandlerLine2D(numpoints=2)})\n",
    "plt.ylabel(\"AUC score\")\n",
    "plt.xlabel('min_samples_split')\n",
    "plt.show()"
   ]
  },
  {
   "cell_type": "markdown",
   "id": "biblical-syndicate",
   "metadata": {},
   "source": [
    "##### Parameters (min_samples_leaf)\n",
    "\n",
    "min_samples_leaf is The minimum number of samples required to be at a leaf node. This similar to min_samples_splits, however, this describe the minimum number of samples of samples at the leafs."
   ]
  },
  {
   "cell_type": "code",
   "execution_count": 8,
   "id": "bottom-panama",
   "metadata": {
    "scrolled": true
   },
   "outputs": [
    {
     "name": "stdout",
     "output_type": "stream",
     "text": [
      "min_samples_leaf: 1, train_accuracy: 0.9739978331527628 ,test_accuracy: 0.9485428907168039\n",
      "min_samples_leaf: 2, train_accuracy: 0.9707475622968581 ,test_accuracy: 0.9452849588719154\n",
      "min_samples_leaf: 3, train_accuracy: 0.9734561213434453 ,test_accuracy: 0.946909518213866\n",
      "min_samples_leaf: 4, train_accuracy: 0.971830985915493 ,test_accuracy: 0.9479905992949472\n",
      "min_samples_leaf: 5, train_accuracy: 0.971830985915493 ,test_accuracy: 0.9496180963572268\n",
      "min_samples_leaf: 6, train_accuracy: 0.9712892741061755 ,test_accuracy: 0.9463660399529965\n",
      "min_samples_leaf: 7, train_accuracy: 0.9707475622968581 ,test_accuracy: 0.9474559341950647\n",
      "min_samples_leaf: 8, train_accuracy: 0.971830985915493 ,test_accuracy: 0.9452849588719154\n",
      "min_samples_leaf: 9, train_accuracy: 0.9702058504875406 ,test_accuracy: 0.9474529964747356\n"
     ]
    },
    {
     "data": {
      "image/png": "[encoded data removed]",
      "text/plain": [
       "<Figure size 432x288 with 1 Axes>"
      ]
     },
     "metadata": {
      "needs_background": "light"
     },
     "output_type": "display_data"
    }
   ],
   "source": [
    "min_leaf = 1\n",
    "max_leaf = 10\n",
    "n_leafs = np.arange(min_leaf,max_leaf,1)\n",
    "vali_results = []\n",
    "train_results = []\n",
    "\n",
    "for leaf in n_leafs:\n",
    "    model = GradientBoostingClassifier(n_estimators=138,learning_rate=0.1, max_depth=8, min_samples_split=0.6, min_samples_leaf=leaf, max_features=8)\n",
    "    scores = cross_val_score(model, x_train, y_train.values.ravel(), cv=10, scoring='accuracy')\n",
    "    model.fit(x_train,y_train.values.ravel())\n",
    "    train_score = model.score(x_train,y_train)\n",
    "    train_results.append(train_score)\n",
    "    vali_results.append(scores.mean())\n",
    "    print(f\"min_samples_leaf: {leaf}, train_accuracy: {train_score} ,test_accuracy: {scores.mean()}\")\n",
    "\n",
    "\n",
    "from matplotlib.legend_handler import HandlerLine2D\n",
    "\n",
    "line1, = plt.plot(n_leafs, vali_results, 'b', label=\"Test AUC\")\n",
    "line2, = plt.plot(n_leafs, train_results , 'r', label=\"Train AUC\")\n",
    "plt.legend(handler_map={line1: HandlerLine2D(numpoints=2)})\n",
    "plt.ylabel(\"AUC score\")\n",
    "plt.xlabel('min_samples_leaf')\n",
    "plt.show()"
   ]
  },
  {
   "cell_type": "markdown",
   "id": "heavy-fifth",
   "metadata": {},
   "source": [
    "##### Parameters (max_features)\n",
    "\n",
    "max_features represents the number of features to consider when looking for the best split."
   ]
  },
  {
   "cell_type": "code",
   "execution_count": 9,
   "id": "existing-inclusion",
   "metadata": {
    "scrolled": true
   },
   "outputs": [
    {
     "name": "stdout",
     "output_type": "stream",
     "text": [
      "max_features: 1, train_accuracy: 0.957204767063922 ,test_accuracy: 0.9452967097532315\n",
      "max_features: 2, train_accuracy: 0.9647887323943662 ,test_accuracy: 0.9469242068155111\n",
      "max_features: 3, train_accuracy: 0.9647887323943662 ,test_accuracy: 0.9452878965922444\n",
      "max_features: 4, train_accuracy: 0.9653304442036836 ,test_accuracy: 0.9469183313748533\n",
      "max_features: 5, train_accuracy: 0.9680390032502708 ,test_accuracy: 0.947996474735605\n",
      "max_features: 6, train_accuracy: 0.9702058504875406 ,test_accuracy: 0.9463689776733256\n",
      "max_features: 7, train_accuracy: 0.9723726977248104 ,test_accuracy: 0.9452849588719154\n",
      "max_features: 8, train_accuracy: 0.9702058504875406 ,test_accuracy: 0.9496180963572268\n",
      "max_features: 9, train_accuracy: 0.9707475622968581 ,test_accuracy: 0.946906580493537\n"
     ]
    },
    {
     "data": {
      "image/png": "[encoded data removed]",
      "text/plain": [
       "<Figure size 432x288 with 1 Axes>"
      ]
     },
     "metadata": {
      "needs_background": "light"
     },
     "output_type": "display_data"
    }
   ],
   "source": [
    "min_features = 1\n",
    "max_features = 10\n",
    "n_features = np.arange(min_features,max_features,1)\n",
    "vali_results = []\n",
    "train_results = []\n",
    "\n",
    "for feature in n_features:\n",
    "    model = GradientBoostingClassifier(n_estimators=138,learning_rate=0.1, max_depth=8, min_samples_split=0.6, min_samples_leaf=7, max_features=feature)\n",
    "    scores = cross_val_score(model, x_train, y_train.values.ravel(), cv=10, scoring='accuracy')\n",
    "    model.fit(x_train,y_train.values.ravel())\n",
    "    train_score = model.score(x_train,y_train)\n",
    "    train_results.append(train_score)\n",
    "    vali_results.append(scores.mean())\n",
    "    print(f\"max_features: {feature}, train_accuracy: {train_score} ,test_accuracy: {scores.mean()}\")\n",
    "\n",
    "\n",
    "from matplotlib.legend_handler import HandlerLine2D\n",
    "\n",
    "line1, = plt.plot(n_features, vali_results, 'b', label=\"Test AUC\")\n",
    "line2, = plt.plot(n_features, train_results , 'r', label=\"Train AUC\")\n",
    "plt.legend(handler_map={line1: HandlerLine2D(numpoints=2)})\n",
    "plt.ylabel(\"AUC score\")\n",
    "plt.xlabel('max_features')\n",
    "plt.show()"
   ]
  },
  {
   "cell_type": "markdown",
   "id": "verified-baptist",
   "metadata": {},
   "source": [
    "#### Attempts and Results\n",
    "\n",
    "| attempt/parameters \t| n_estimators \t| learning_rate \t| max_depth \t| min_samples_split \t| min_samples_leaf \t| max_features \t| **Accuracy** \t|\n",
    "|:-:\t|:-:\t|:-:\t|:-:\t|:-:\t|:-:\t|:-:\t|:-:\t|\n",
    "| 1 \t| default \t| default \t| default \t| default \t| default \t| default \t| **0.93617** \t|\n",
    "| 2 \t| 39 \t| 0.11 \t| 3 \t| 0.5 \t| 1 \t| 8 \t| **0.94366** \t|\n",
    "| 3 \t| 138 \t| 0.1 \t| 8 \t| 0.6 \t| 7 \t| 4 \t| **0.92957** \t|"
   ]
  },
  {
   "cell_type": "markdown",
   "id": "arctic-florist",
   "metadata": {},
   "source": [
    "### Generate File Result"
   ]
  },
  {
   "cell_type": "code",
   "execution_count": 10,
   "id": "smart-recorder",
   "metadata": {},
   "outputs": [
    {
     "name": "stdout",
     "output_type": "stream",
     "text": [
      "RESULT:             Id  Failure\n",
      "0    131394910        0\n",
      "1    131391329        0\n",
      "2    111345779        0\n",
      "3    131382288        0\n",
      "4    131379697        0\n",
      "..         ...      ...\n",
      "787  111345889        0\n",
      "788  111354299        0\n",
      "789  131389518        0\n",
      "790  131384425        0\n",
      "791  131391767        0\n",
      "\n",
      "[792 rows x 2 columns]\n"
     ]
    }
   ],
   "source": [
    "model = GradientBoostingClassifier(n_estimators=20, learning_rate=0.01, max_depth=0.02, min_samples_split=0.6, min_samples_leaf=0.4, max_features=3)\n",
    "\n",
    "model.fit(x_train, y_train.values.ravel())\n",
    "\n",
    "result = model.predict(x_test)\n",
    "\n",
    "result = pd.DataFrame(data=result)\n",
    "result.columns = ['Failure']\n",
    "result.insert(loc=0,column ='Id',value=id_column)\n",
    "\n",
    "print(f\"RESULT: {result}\")\n",
    "\n",
    "result.to_csv(r'result.csv', index = False)"
   ]
  },
  {
   "cell_type": "markdown",
   "id": "signed-router",
   "metadata": {},
   "source": [
    "### BaggingClassifier -> 95.0%"
   ]
  },
  {
   "cell_type": "code",
   "execution_count": null,
   "id": "fallen-placement",
   "metadata": {},
   "outputs": [],
   "source": [
    "from sklearn.ensemble import BaggingClassifier\n",
    "\n",
    "clf = GridSearchCV(BaggingClassifier(), parameters_K,scoring='accuracy',refit=True,cv=2, n_jobs=-1)\n",
    "clf.fit(x_train, y_train.values.ravel())\n",
    "\n",
    "scores = cross_val_score(clf, x_train, y_train.values.ravel(), cv=10, scoring='accuracy')\n",
    "print(scores.mean())"
   ]
  },
  {
   "cell_type": "markdown",
   "id": "surface-jersey",
   "metadata": {},
   "source": [
    "### KNeighborsClassifier -> 93.7%"
   ]
  },
  {
   "cell_type": "code",
   "execution_count": 12,
   "id": "necessary-special",
   "metadata": {},
   "outputs": [
    {
     "name": "stdout",
     "output_type": "stream",
     "text": [
      "0.9246827262044655\n"
     ]
    }
   ],
   "source": [
    "from sklearn.neighbors import KNeighborsClassifier\n",
    "\n",
    "parameters_K = {\n",
    "    \"n_neighbors\":np.arange(1,500,50),\n",
    "    \"weights\": [\"uniform\",  \"distance\"],\n",
    "    \"leaf_size\": np.arange(1,1000,50)\n",
    "    }\n",
    "\n",
    "clf = GridSearchCV(KNeighborsClassifier(), parameters_K,scoring='accuracy',refit=True,cv=2, n_jobs=-1)\n",
    "clf.fit(x_train, y_train.values.ravel())\n",
    "\n",
    "scores = cross_val_score(clf, x_train, y_train.values.ravel(), cv=10, scoring='accuracy')\n",
    "print(scores.mean())"
   ]
  },
  {
   "cell_type": "markdown",
   "id": "identified-language",
   "metadata": {},
   "source": [
    "### LogisticRegression -> 95.8% (The best)"
   ]
  },
  {
   "cell_type": "code",
   "execution_count": 15,
   "id": "solar-stand",
   "metadata": {},
   "outputs": [
    {
     "name": "stdout",
     "output_type": "stream",
     "text": [
      "0.9436603995299647\n"
     ]
    }
   ],
   "source": [
    "from sklearn.linear_model import LogisticRegression\n",
    "\n",
    "parameters_L = {\n",
    "    \"C\":np.arange(1,701,50),\n",
    "    \"penalty\": [\"l1\",\"l2\"],\n",
    "    \"solver\": [\"liblinear\",],\n",
    "    \"tol\": [1e-4],\n",
    "    \"max_iter\": np.arange(1000,7001,1000),\n",
    "    \"intercept_scaling\":np.arange(1,701,50),\n",
    "    \"multi_class\":[\"auto\"],\n",
    "    }\n",
    "\n",
    "clf = GridSearchCV(LogisticRegression(), parameters_L,scoring='accuracy',refit=True,cv=2, n_jobs=-1)\n",
    "clf.fit(x_train, y_train.values.ravel())\n",
    "\n",
    "scores = cross_val_score(clf, x_train, y_train.values.ravel(), cv=10, scoring='accuracy')\n",
    "print(scores.mean())"
   ]
  },
  {
   "cell_type": "markdown",
   "id": "driven-brazilian",
   "metadata": {},
   "source": [
    "### Procedimentos\n",
    "\n",
    "Na primeira parte do trabalho utilizamos o GradientBoostingClassifier\n",
    "com parametros escolhidos por nós com base nas observações dos graficos (treino supervisionado).\n",
    "Com este metodo obtivemos 2 modelos:\n",
    "\n",
    "- GradientBoosting com parametros default -> 0.92957%)\n",
    "- GradientBoosting com parametros escolhidos -> 0.94366%)\n",
    "\n",
    "Na segunda parte do trabalho utilizamos a função GridSearchCV para escolher os melhores parametros (treino não supervisionado) para os seguintes modelos:\n",
    "\n",
    "- BaggingClassifier (DecisionTrees) -> 95.0% (sem GridSearchCV)\n",
    "- KNeighborsClassifier -> 93.7%\n",
    "- LogisticRegression -> 95.8% (The best)\n",
    "\n",
    "nota: o modelo BaggingClassifier (DecisionTrees) não obteve bons resultados ao utilizar GridSearchCV (portanto não incluimos no codigo)\n",
    "\n",
    "O melhor modelo que conseguimos obter foi o LogisticRegression com 95.8% de \"accuracy\"\n",
    "\n",
    "### Conclusão\n",
    "\n",
    "Realizar este trabalho permitiu-nos ver o \"potencial\" dos algoritmos de machine-learning ao oferecer uma solução \n",
    "para um problema de dificil resposta (o aluno poderá desistir do curso?). Para que essa solução seja de confiança:\n",
    "\n",
    "- É necessário intrepretar os dados do problema: agrupar e separar a informação util.\n",
    "\n",
    "- Escolher o melhor algoritmo ou estrategia de apredizagem com base na analise feita aos dados: os dados influenciam \n",
    "a performance do algoritmo, podendo ou não favorecer este.\n",
    "\n",
    "- Ajustar o modelo construido de forma a ter a melhor performace possivel: validar o modelo, permitindo encontrar os parametros adequados.\n",
    "\n",
    "- Verificar se o modelo final permite resolver o problema. (Avaliar o modelo e encontrar erros ao nivel da interpretação dos dados e/ou construção do modelo final."
   ]
  }
 ],
 "metadata": {
  "kernelspec": {
   "display_name": "Python 3",
   "language": "python",
   "name": "python3"
  },
  "language_info": {
   "codemirror_mode": {
    "name": "ipython",
    "version": 3
   },
   "file_extension": ".py",
   "mimetype": "text/x-python",
   "name": "python",
   "nbconvert_exporter": "python",
   "pygments_lexer": "ipython3",
   "version": "3.6.9"
  }
 },
 "nbformat": 4,
 "nbformat_minor": 5
}