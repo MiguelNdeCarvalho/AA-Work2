{
 "cells": [
  {
   "cell_type": "markdown",
   "id": "spatial-calculation",
   "metadata": {
    "slideshow": {
     "slide_type": "notes"
    }
   },
   "source": [
    "# Aprendizagem Automática - Student Sucess Uevora\n",
    "\n",
    "- Teachers: Teresa Gonçalves, Luis Rato\n",
    "- Made by: Miguel de Carvalho (43108), João Pereira(42864)"
   ]
  },
  {
   "cell_type": "markdown",
   "id": "extensive-pastor",
   "metadata": {},
   "source": [
    "## Add necessary imports for our code"
   ]
  },
  {
   "cell_type": "code",
   "execution_count": 1,
   "id": "elegant-caribbean",
   "metadata": {},
   "outputs": [],
   "source": [
    "import pandas as pd\n",
    "import numpy as np\n",
    "import itertools\n",
    "import matplotlib.pyplot as plt\n",
    "from sklearn.model_selection import cross_val_score\n",
    "from sklearn.model_selection import GridSearchCV\n",
    "from sklearn.metrics import confusion_matrix\n",
    "from IPython.display import display\n",
    "from sklearn import metrics"
   ]
  },
  {
   "cell_type": "markdown",
   "id": "literary-cement",
   "metadata": {},
   "source": [
    "## Funcion that reads and parse our data"
   ]
  },
  {
   "cell_type": "code",
   "execution_count": 2,
   "id": "graduate-taxation",
   "metadata": {},
   "outputs": [],
   "source": [
    "def data_treatment(file):\n",
    "    data = pd.read_csv(file, header=0)\n",
    "    if(file=='train.csv'):\n",
    "        data.drop('Id',axis=1,inplace=True) \n",
    "        enconde = {\"Program\": {\"Informatics\": 0, \"Nursing\": 1, \"Management\": 2, \"Biology\": 3}}\n",
    "        data = data.replace(enconde)\n",
    "        y_data = data[['Failure']].copy()\n",
    "        data.drop('Failure',axis=1,inplace=True)\n",
    "        x_data = data.copy()\n",
    "        return x_data,y_data\n",
    "    else:\n",
    "        save = data['Id'].copy()\n",
    "        data.drop('Id',axis=1,inplace=True) \n",
    "        enconde = {\"Program\": {\"Informatics\": 0, \"Nursing\": 1, \"Management\": 2, \"Biology\": 3}}\n",
    "        data = data.replace(enconde)\n",
    "        return data,save\n",
    "\n",
    "x_train,y_train = data_treatment('train.csv')\n",
    "x_test,id_column = data_treatment('test.csv')"
   ]
  },
  {
   "cell_type": "markdown",
   "id": "yellow-sheet",
   "metadata": {},
   "source": [
    "## Testing with different Models "
   ]
  },
  {
   "cell_type": "markdown",
   "id": "reasonable-village",
   "metadata": {},
   "source": [
    "### GradientBoostingClassifier \n",
    "\n",
    "The first model we chose was GradientBoostingClassifier. We started by running it without any parameters set by us and just stick with the default ones. Then we start by doing some tests and representing that with some plots, just to be more clearly the difference between them (supervised learning)."
   ]
  },
  {
   "cell_type": "code",
   "execution_count": 3,
   "id": "parental-reynolds",
   "metadata": {},
   "outputs": [],
   "source": [
    "from sklearn.ensemble import GradientBoostingClassifier "
   ]
  },
  {
   "cell_type": "markdown",
   "id": "lovely-silver",
   "metadata": {},
   "source": [
    "#### Choosing the best Parameters\n",
    "\n",
    "We will test each parameter and try to get the best of each one"
   ]
  },
  {
   "cell_type": "markdown",
   "id": "identical-bubble",
   "metadata": {},
   "source": [
    "##### Parameter \"learning_rate\"\n",
    "\n",
    "learning_rate shrinks the contribution of each tree by learning_rate."
   ]
  },
  {
   "cell_type": "code",
   "execution_count": 4,
   "id": "polar-torture",
   "metadata": {
    "scrolled": true
   },
   "outputs": [
    {
     "name": "stdout",
     "output_type": "stream",
     "text": [
      "learning_rate: 0.01, train_accuracy: 0.919284940411701 ,test_accuracy: 0.9149529964747357\n",
      "learning_rate: 0.11, train_accuracy: 0.9647887323943662 ,test_accuracy: 0.9479964747356051\n",
      "learning_rate: 0.21000000000000002, train_accuracy: 0.9734561213434453 ,test_accuracy: 0.9474500587544066\n",
      "learning_rate: 0.31000000000000005, train_accuracy: 0.980498374864572 ,test_accuracy: 0.945822561692127\n",
      "learning_rate: 0.41000000000000003, train_accuracy: 0.9864572047670639 ,test_accuracy: 0.9431139835487663\n",
      "learning_rate: 0.51, train_accuracy: 0.9409534127843987 ,test_accuracy: 0.9398648648648649\n",
      "learning_rate: 0.6100000000000001, train_accuracy: 0.9902491874322861 ,test_accuracy: 0.9376997649823735\n",
      "learning_rate: 0.7100000000000001, train_accuracy: 0.9924160346695557 ,test_accuracy: 0.9225176263219741\n",
      "learning_rate: 0.81, train_accuracy: 0.9609967497291441 ,test_accuracy: 0.9382344300822562\n",
      "learning_rate: 0.91, train_accuracy: 0.9940411700975081 ,test_accuracy: 0.9382491186839012\n",
      "learning_rate: 1.01, train_accuracy: 0.9956663055254604 ,test_accuracy: 0.9041098707403055\n",
      "learning_rate: 1.11, train_accuracy: 0.9734561213434453 ,test_accuracy: 0.8868507638072854\n",
      "learning_rate: 1.2100000000000002, train_accuracy: 0.9956663055254604 ,test_accuracy: 0.9073031727379555\n",
      "learning_rate: 1.31, train_accuracy: 0.18039003250270855 ,test_accuracy: 0.8265217391304349\n",
      "learning_rate: 1.4100000000000001, train_accuracy: 0.9989165763813651 ,test_accuracy: 0.6392273795534665\n",
      "learning_rate: 1.51, train_accuracy: 0.8884073672806068 ,test_accuracy: 0.5889394829612222\n",
      "learning_rate: 1.61, train_accuracy: 0.8380281690140845 ,test_accuracy: 0.4425381903642773\n",
      "learning_rate: 1.7100000000000002, train_accuracy: 0.6538461538461539 ,test_accuracy: 0.6636515863689777\n",
      "learning_rate: 1.81, train_accuracy: 0.8672806067172264 ,test_accuracy: 0.6515364277320799\n",
      "learning_rate: 1.9100000000000001, train_accuracy: 0.8212351029252438 ,test_accuracy: 0.6111457109283197\n"
     ]
    },
    {
     "data": {
      "image/png": "[encoded data removed]",
      "text/plain": [
       "<Figure size 432x288 with 1 Axes>"
      ]
     },
     "metadata": {
      "needs_background": "light"
     },
     "output_type": "display_data"
    }
   ],
   "source": [
    "min_learning = 0.01\n",
    "max_learning = 1\n",
    "inc_learning = int((max_learning-min_learning)/10)\n",
    "n_learning = np.arange(min_learning,max_learning+1,0.10)\n",
    "vali_results = []\n",
    "train_results = []\n",
    "\n",
    "for learning in n_learning:\n",
    "    model = GradientBoostingClassifier(n_estimators=138,learning_rate=learning, max_depth=3, min_samples_split=0.7, min_samples_leaf=7, max_features=8)\n",
    "    scores = cross_val_score(model, x_train, y_train.values.ravel(), cv=10, scoring='accuracy')\n",
    "    model.fit(x_train,y_train.values.ravel())\n",
    "    train_score = model.score(x_train,y_train)\n",
    "    train_results.append(train_score)\n",
    "    vali_results.append(scores.mean())\n",
    "    print(f\"learning_rate: {learning}, train_accuracy: {train_score} ,test_accuracy: {scores.mean()}\")\n",
    "\n",
    "\n",
    "from matplotlib.legend_handler import HandlerLine2D\n",
    "\n",
    "line1, = plt.plot(n_learning, vali_results, 'b', label=\"Test AUC\")\n",
    "line2, = plt.plot(n_learning, train_results , 'r', label=\"Train AUC\")\n",
    "plt.legend(handler_map={line1: HandlerLine2D(numpoints=2)})\n",
    "plt.ylabel(\"AUC score\")\n",
    "plt.xlabel('learning_rate')\n",
    "plt.show()"
   ]
  },
  {
   "cell_type": "markdown",
   "id": "sharp-patent",
   "metadata": {},
   "source": [
    "##### Parameter \"n_estimators\"\n",
    "\n",
    "n_estimators represents the number of trees in the forest. Usually the higher the number of trees the better to learn the data. However, adding a lot of trees can slow down the training process considerably, therefore we do a parameter search to find the sweet spot."
   ]
  },
  {
   "cell_type": "code",
   "execution_count": 5,
   "id": "rubber-vitamin",
   "metadata": {
    "scrolled": true
   },
   "outputs": [
    {
     "name": "stdout",
     "output_type": "stream",
     "text": [
      "n_estimators: 1, train_accuracy: 0.7291440953412784 ,test_accuracy: 0.7291421856639249\n",
      "n_estimators: 20, train_accuracy: 0.9247020585048754 ,test_accuracy: 0.9209077555816687\n",
      "n_estimators: 39, train_accuracy: 0.942578548212351 ,test_accuracy: 0.9371621621621621\n",
      "n_estimators: 58, train_accuracy: 0.9507042253521126 ,test_accuracy: 0.9425793184488835\n",
      "n_estimators: 77, train_accuracy: 0.9582881906825569 ,test_accuracy: 0.9436633372502939\n",
      "n_estimators: 96, train_accuracy: 0.9582881906825569 ,test_accuracy: 0.945831374853114\n",
      "n_estimators: 115, train_accuracy: 0.9653304442036836 ,test_accuracy: 0.9474500587544066\n",
      "n_estimators: 134, train_accuracy: 0.9642470205850487 ,test_accuracy: 0.9485399529964746\n",
      "n_estimators: 153, train_accuracy: 0.9647887323943662 ,test_accuracy: 0.9452761457109282\n",
      "n_estimators: 172, train_accuracy: 0.9669555796316359 ,test_accuracy: 0.9447444183313749\n",
      "n_estimators: 191, train_accuracy: 0.9702058504875406 ,test_accuracy: 0.9479905992949472\n"
     ]
    },
    {
     "data": {
      "image/png": "[encoded data removed]",
      "text/plain": [
       "<Figure size 432x288 with 1 Axes>"
      ]
     },
     "metadata": {
      "needs_background": "light"
     },
     "output_type": "display_data"
    }
   ],
   "source": [
    "min_estimators = 1\n",
    "max_estimators = 200\n",
    "inc_estimators = int((max_estimators-min_estimators)/10)\n",
    "n_estimators = range(min_estimators,max_estimators+1,inc_estimators)\n",
    "vali_results = []\n",
    "train_results = []\n",
    "\n",
    "for estimator in n_estimators:\n",
    "    model = GradientBoostingClassifier(n_estimators=estimator,learning_rate=0.11, max_depth=3, min_samples_split=0.7, min_samples_leaf=7, max_features=8)\n",
    "    scores = cross_val_score(model, x_train, y_train.values.ravel(), cv=10, scoring='accuracy')\n",
    "    model.fit(x_train,y_train.values.ravel())\n",
    "    train_score = model.score(x_train,y_train)\n",
    "    train_results.append(train_score)\n",
    "    vali_results.append(scores.mean())\n",
    "    print(f\"n_estimators: {estimator}, train_accuracy: {train_score} ,test_accuracy: {scores.mean()}\")\n",
    "\n",
    "\n",
    "from matplotlib.legend_handler import HandlerLine2D\n",
    "\n",
    "line1, = plt.plot(n_estimators, vali_results, 'b', label=\"Test AUC\")\n",
    "line2, = plt.plot(n_estimators, train_results , 'r', label=\"Train AUC\")\n",
    "plt.legend(handler_map={line1: HandlerLine2D(numpoints=2)})\n",
    "plt.ylabel(\"AUC score\")\n",
    "plt.xlabel('n_estimators')\n",
    "plt.show()"
   ]
  },
  {
   "cell_type": "markdown",
   "id": "wicked-candle",
   "metadata": {},
   "source": [
    "##### Parameter \"max_depth\"\n",
    "\n",
    "max_depth indicates how deep the built tree can be. The deeper the tree, the more splits it has and it captures more information about how the data. We fit a decision tree with depths ranging from 1 to 32 and plot the training and test errors."
   ]
  },
  {
   "cell_type": "code",
   "execution_count": 6,
   "id": "adolescent-herald",
   "metadata": {
    "scrolled": true
   },
   "outputs": [
    {
     "name": "stdout",
     "output_type": "stream",
     "text": [
      "max_depth: 1, train_accuracy: 0.9517876489707475 ,test_accuracy: 0.9404054054054054\n",
      "max_depth: 2, train_accuracy: 0.9604550379198267 ,test_accuracy: 0.9474618096357228\n",
      "max_depth: 3, train_accuracy: 0.9637053087757314 ,test_accuracy: 0.9463689776733254\n",
      "max_depth: 4, train_accuracy: 0.9631635969664138 ,test_accuracy: 0.9452878965922444\n",
      "max_depth: 5, train_accuracy: 0.9658721560130011 ,test_accuracy: 0.9474500587544066\n",
      "max_depth: 6, train_accuracy: 0.9680390032502708 ,test_accuracy: 0.9469124559341952\n",
      "max_depth: 7, train_accuracy: 0.9685807150595883 ,test_accuracy: 0.9479994124559342\n",
      "max_depth: 8, train_accuracy: 0.9647887323943662 ,test_accuracy: 0.946909518213866\n",
      "max_depth: 9, train_accuracy: 0.9674972914409534 ,test_accuracy: 0.9452790834312573\n",
      "max_depth: 10, train_accuracy: 0.9696641386782232 ,test_accuracy: 0.9474529964747356\n"
     ]
    },
    {
     "data": {
      "image/png": "[encoded data removed]",
      "text/plain": [
       "<Figure size 432x288 with 1 Axes>"
      ]
     },
     "metadata": {
      "needs_background": "light"
     },
     "output_type": "display_data"
    }
   ],
   "source": [
    "min_depth = 1\n",
    "max_depth = 10\n",
    "inc_depth = int((max_depth-min_depth)/10)\n",
    "n_depth = np.arange(min_depth,max_depth+1,1)\n",
    "vali_results = []\n",
    "train_results = []\n",
    "\n",
    "for depth in n_depth:\n",
    "    model = GradientBoostingClassifier(n_estimators=138,learning_rate=0.1, max_depth=float(depth), min_samples_split=0.7, min_samples_leaf=7, max_features=8)\n",
    "    scores = cross_val_score(model, x_train, y_train.values.ravel(), cv=10, scoring='accuracy')\n",
    "    model.fit(x_train,y_train.values.ravel())\n",
    "    train_score = model.score(x_train,y_train)\n",
    "    train_results.append(train_score)\n",
    "    vali_results.append(scores.mean())\n",
    "    print(f\"max_depth: {depth}, train_accuracy: {train_score} ,test_accuracy: {scores.mean()}\")\n",
    "\n",
    "\n",
    "from matplotlib.legend_handler import HandlerLine2D\n",
    "\n",
    "line1, = plt.plot(n_depth, vali_results, 'b', label=\"Test AUC\")\n",
    "line2, = plt.plot(n_depth, train_results , 'r', label=\"Train AUC\")\n",
    "plt.legend(handler_map={line1: HandlerLine2D(numpoints=2)})\n",
    "plt.ylabel(\"AUC score\")\n",
    "plt.xlabel('max_depth')\n",
    "plt.show()"
   ]
  },
  {
   "cell_type": "markdown",
   "id": "italian-nirvana",
   "metadata": {},
   "source": [
    "##### Parameter \"min_samples_split\"\n",
    "\n",
    "min_samples_split represents the minimum number of samples required to split an internal node. This can vary between considering at least one sample at each node to considering all of the samples at each node. When we increase this parameter, the tree becomes more constrained as it has to consider more samples at each node. Here we will vary the parameter from 10% to 100% of the samples"
   ]
  },
  {
   "cell_type": "code",
   "execution_count": 7,
   "id": "certified-walker",
   "metadata": {},
   "outputs": [
    {
     "name": "stdout",
     "output_type": "stream",
     "text": [
      "min_samples_split: 0.1, train_accuracy: 0.9994582881906826 ,test_accuracy: 0.9469007050528789\n",
      "min_samples_split: 0.2, train_accuracy: 0.9983748645720477 ,test_accuracy: 0.9447356051703878\n",
      "min_samples_split: 0.30000000000000004, train_accuracy: 0.9907908992416035 ,test_accuracy: 0.9479964747356051\n",
      "min_samples_split: 0.4, train_accuracy: 0.985373781148429 ,test_accuracy: 0.9463719153936545\n",
      "min_samples_split: 0.5, train_accuracy: 0.9756229685807151 ,test_accuracy: 0.9479935370152763\n",
      "min_samples_split: 0.6, train_accuracy: 0.9707475622968581 ,test_accuracy: 0.9485370152761456\n",
      "min_samples_split: 0.7000000000000001, train_accuracy: 0.9664138678223185 ,test_accuracy: 0.9496239717978849\n",
      "min_samples_split: 0.8, train_accuracy: 0.9609967497291441 ,test_accuracy: 0.9479994124559342\n",
      "min_samples_split: 0.9, train_accuracy: 0.9544962080173348 ,test_accuracy: 0.9442038777908344\n",
      "min_samples_split: 1.0, train_accuracy: 0.9539544962080173 ,test_accuracy: 0.9436545240893066\n"
     ]
    },
    {
     "data": {
      "image/png": "[encoded data removed]",
      "text/plain": [
       "<Figure size 432x288 with 1 Axes>"
      ]
     },
     "metadata": {
      "needs_background": "light"
     },
     "output_type": "display_data"
    }
   ],
   "source": [
    "min_samples = 0.1\n",
    "max_samples = 1.1\n",
    "n_samples = np.arange(min_samples,max_samples,0.1)\n",
    "vali_results = []\n",
    "train_results = []\n",
    "\n",
    "for samples in n_samples:\n",
    "    model = GradientBoostingClassifier(n_estimators=138,learning_rate=0.1, max_depth=8, min_samples_split=samples, min_samples_leaf=7, max_features=8)\n",
    "    scores = cross_val_score(model, x_train, y_train.values.ravel(), cv=10, scoring='accuracy')\n",
    "    model.fit(x_train,y_train.values.ravel())\n",
    "    train_score = model.score(x_train,y_train)\n",
    "    train_results.append(train_score)\n",
    "    vali_results.append(scores.mean())\n",
    "    print(f\"min_samples_split: {samples}, train_accuracy: {train_score} ,test_accuracy: {scores.mean()}\")\n",
    "\n",
    "\n",
    "from matplotlib.legend_handler import HandlerLine2D\n",
    "\n",
    "line1, = plt.plot(n_samples, vali_results, 'b', label=\"Test AUC\")\n",
    "line2, = plt.plot(n_samples, train_results , 'r', label=\"Train AUC\")\n",
    "plt.legend(handler_map={line1: HandlerLine2D(numpoints=2)})\n",
    "plt.ylabel(\"AUC score\")\n",
    "plt.xlabel('min_samples_split')\n",
    "plt.show()"
   ]
  },
  {
   "cell_type": "markdown",
   "id": "freelance-trace",
   "metadata": {},
   "source": [
    "##### Parameters \"min_samples_leaf\"\n",
    "\n",
    "min_samples_leaf is The minimum number of samples required to be at a leaf node. This similar to min_samples_splits, however, this describe the minimum number of samples of samples at the leafs."
   ]
  },
  {
   "cell_type": "code",
   "execution_count": 8,
   "id": "cheap-juvenile",
   "metadata": {
    "scrolled": true
   },
   "outputs": [
    {
     "name": "stdout",
     "output_type": "stream",
     "text": [
      "min_samples_leaf: 1, train_accuracy: 0.9729144095341279 ,test_accuracy: 0.9452732079905992\n",
      "min_samples_leaf: 2, train_accuracy: 0.971830985915493 ,test_accuracy: 0.9442038777908344\n",
      "min_samples_leaf: 3, train_accuracy: 0.9729144095341279 ,test_accuracy: 0.9474500587544066\n",
      "min_samples_leaf: 4, train_accuracy: 0.9734561213434453 ,test_accuracy: 0.9496239717978849\n",
      "min_samples_leaf: 5, train_accuracy: 0.9707475622968581 ,test_accuracy: 0.945828437132785\n",
      "min_samples_leaf: 6, train_accuracy: 0.9707475622968581 ,test_accuracy: 0.9474471210340776\n",
      "min_samples_leaf: 7, train_accuracy: 0.9707475622968581 ,test_accuracy: 0.9458284371327851\n",
      "min_samples_leaf: 8, train_accuracy: 0.971830985915493 ,test_accuracy: 0.9485399529964746\n",
      "min_samples_leaf: 9, train_accuracy: 0.9702058504875406 ,test_accuracy: 0.9490775558166863\n"
     ]
    },
    {
     "data": {
      "image/png": "[encoded data removed]",
      "text/plain": [
       "<Figure size 432x288 with 1 Axes>"
      ]
     },
     "metadata": {
      "needs_background": "light"
     },
     "output_type": "display_data"
    }
   ],
   "source": [
    "min_leaf = 1\n",
    "max_leaf = 10\n",
    "n_leafs = np.arange(min_leaf,max_leaf,1)\n",
    "vali_results = []\n",
    "train_results = []\n",
    "\n",
    "for leaf in n_leafs:\n",
    "    model = GradientBoostingClassifier(n_estimators=138,learning_rate=0.1, max_depth=8, min_samples_split=0.6, min_samples_leaf=leaf, max_features=8)\n",
    "    scores = cross_val_score(model, x_train, y_train.values.ravel(), cv=10, scoring='accuracy')\n",
    "    model.fit(x_train,y_train.values.ravel())\n",
    "    train_score = model.score(x_train,y_train)\n",
    "    train_results.append(train_score)\n",
    "    vali_results.append(scores.mean())\n",
    "    print(f\"min_samples_leaf: {leaf}, train_accuracy: {train_score} ,test_accuracy: {scores.mean()}\")\n",
    "\n",
    "\n",
    "from matplotlib.legend_handler import HandlerLine2D\n",
    "\n",
    "line1, = plt.plot(n_leafs, vali_results, 'b', label=\"Test AUC\")\n",
    "line2, = plt.plot(n_leafs, train_results , 'r', label=\"Train AUC\")\n",
    "plt.legend(handler_map={line1: HandlerLine2D(numpoints=2)})\n",
    "plt.ylabel(\"AUC score\")\n",
    "plt.xlabel('min_samples_leaf')\n",
    "plt.show()"
   ]
  },
  {
   "cell_type": "markdown",
   "id": "twelve-opening",
   "metadata": {},
   "source": [
    "##### Parameters \"max_features\"\n",
    "\n",
    "max_features represents the number of features to consider when looking for the best split."
   ]
  },
  {
   "cell_type": "code",
   "execution_count": 9,
   "id": "juvenile-junction",
   "metadata": {
    "scrolled": true
   },
   "outputs": [
    {
     "name": "stdout",
     "output_type": "stream",
     "text": [
      "max_features: 1, train_accuracy: 0.9555796316359697 ,test_accuracy: 0.9404024676850764\n",
      "max_features: 2, train_accuracy: 0.9599133261105092 ,test_accuracy: 0.945831374853114\n",
      "max_features: 3, train_accuracy: 0.9642470205850487 ,test_accuracy: 0.9480023501762632\n",
      "max_features: 4, train_accuracy: 0.9674972914409534 ,test_accuracy: 0.9507109283196241\n",
      "max_features: 5, train_accuracy: 0.9685807150595883 ,test_accuracy: 0.9490804935370152\n",
      "max_features: 6, train_accuracy: 0.9723726977248104 ,test_accuracy: 0.9501645123384254\n",
      "max_features: 7, train_accuracy: 0.9691224268689057 ,test_accuracy: 0.945819623971798\n",
      "max_features: 8, train_accuracy: 0.9729144095341279 ,test_accuracy: 0.9447444183313749\n",
      "max_features: 9, train_accuracy: 0.971830985915493 ,test_accuracy: 0.9479964747356051\n"
     ]
    },
    {
     "data": {
      "image/png": "[encoded data removed]",
      "text/plain": [
       "<Figure size 432x288 with 1 Axes>"
      ]
     },
     "metadata": {
      "needs_background": "light"
     },
     "output_type": "display_data"
    }
   ],
   "source": [
    "min_features = 1\n",
    "max_features = 10\n",
    "n_features = np.arange(min_features,max_features,1)\n",
    "vali_results = []\n",
    "train_results = []\n",
    "\n",
    "for feature in n_features:\n",
    "    model = GradientBoostingClassifier(n_estimators=138,learning_rate=0.1, max_depth=8, min_samples_split=0.6, min_samples_leaf=7, max_features=feature)\n",
    "    scores = cross_val_score(model, x_train, y_train.values.ravel(), cv=10, scoring='accuracy')\n",
    "    model.fit(x_train,y_train.values.ravel())\n",
    "    train_score = model.score(x_train,y_train)\n",
    "    train_results.append(train_score)\n",
    "    vali_results.append(scores.mean())\n",
    "    print(f\"max_features: {feature}, train_accuracy: {train_score} ,test_accuracy: {scores.mean()}\")\n",
    "\n",
    "\n",
    "from matplotlib.legend_handler import HandlerLine2D\n",
    "\n",
    "line1, = plt.plot(n_features, vali_results, 'b', label=\"Test AUC\")\n",
    "line2, = plt.plot(n_features, train_results , 'r', label=\"Train AUC\")\n",
    "plt.legend(handler_map={line1: HandlerLine2D(numpoints=2)})\n",
    "plt.ylabel(\"AUC score\")\n",
    "plt.xlabel('max_features')\n",
    "plt.show()"
   ]
  },
  {
   "cell_type": "markdown",
   "id": "recovered-guyana",
   "metadata": {},
   "source": [
    "#### Attempts and Results\n",
    "\n",
    "On our first attempt we didn't set any parameteres, we just sticked with the default ones.\n",
    "\n",
    "| attempt/parameters \t| n_estimators \t| learning_rate \t| max_depth \t| min_samples_split \t| min_samples_leaf \t| max_features \t| **Accuracy on Kaggle** \t|\n",
    "|:-:\t|:-:\t|:-:\t|:-:\t|:-:\t|:-:\t|:-:\t|:-:\t|\n",
    "| 1 \t| default \t| default \t| default \t| default \t| default \t| default \t| **0.93617** \t|\n",
    "| 2 \t| 39 \t| 0.11 \t| 3 \t| 0.5 \t| 1 \t| 8 \t| **0.94366** \t|"
   ]
  },
  {
   "cell_type": "markdown",
   "id": "front-facial",
   "metadata": {},
   "source": [
    "#### Generate File Result"
   ]
  },
  {
   "cell_type": "code",
   "execution_count": 10,
   "id": "centered-research",
   "metadata": {},
   "outputs": [],
   "source": [
    "model = GradientBoostingClassifier(n_estimators=39, learning_rate=0.11, max_depth=3, min_samples_split=0.5, min_samples_leaf=1, max_features=8)\n",
    "\n",
    "model.fit(x_train, y_train.values.ravel())\n",
    "\n",
    "result = model.predict(x_test)\n",
    "\n",
    "result = pd.DataFrame(data=result)\n",
    "result.columns = ['Failure']\n",
    "result.insert(loc=0,column ='Id',value=id_column)\n",
    "\n",
    "result.to_csv(r'result.csv', index = False)"
   ]
  },
  {
   "cell_type": "markdown",
   "id": "finnish-obligation",
   "metadata": {},
   "source": [
    "### BaggingClassifier\n",
    "\n",
    "The second model we used was BagginClassifier with GridSearch to get us the best parameters we could use."
   ]
  },
  {
   "cell_type": "markdown",
   "id": "exempt-watson",
   "metadata": {},
   "source": [
    "#### Default"
   ]
  },
  {
   "cell_type": "code",
   "execution_count": 11,
   "id": "hidden-sodium",
   "metadata": {},
   "outputs": [
    {
     "name": "stdout",
     "output_type": "stream",
     "text": [
      "0.9322620446533489\n"
     ]
    }
   ],
   "source": [
    "from sklearn.ensemble import BaggingClassifier\n",
    "\n",
    "clf = BaggingClassifier()\n",
    "clf.fit(x_train, y_train.values.ravel())\n",
    "\n",
    "scores = cross_val_score(clf, x_train, y_train.values.ravel(), cv=10, scoring='accuracy')\n",
    "print(scores.mean())"
   ]
  },
  {
   "cell_type": "code",
   "execution_count": 12,
   "id": "announced-rider",
   "metadata": {},
   "outputs": [],
   "source": [
    "#### GridSearchCV"
   ]
  },
  {
   "cell_type": "code",
   "execution_count": 13,
   "id": "hidden-pendant",
   "metadata": {},
   "outputs": [
    {
     "name": "stdout",
     "output_type": "stream",
     "text": [
      "0.942035840188014\n"
     ]
    }
   ],
   "source": [
    "from sklearn.ensemble import BaggingClassifier\n",
    "\n",
    "parameters_B = {\n",
    "    \"n_estimators\":np.arange(1,500,50),\n",
    "    \"max_samples\":np.arange(1,500,50),\n",
    "    }\n",
    "\n",
    "clf = GridSearchCV(BaggingClassifier(), parameters_B,scoring='accuracy',refit=True,cv=2, n_jobs=-1)\n",
    "clf.fit(x_train, y_train.values.ravel())\n",
    "\n",
    "scores = cross_val_score(clf, x_train, y_train.values.ravel(), cv=10, scoring='accuracy')\n",
    "print(scores.mean())"
   ]
  },
  {
   "cell_type": "markdown",
   "id": "lined-coast",
   "metadata": {},
   "source": [
    "#### Results\n",
    "\n",
    "| Attempt | Parameters | **Accuracy on Kaggle** |\n",
    "|:-------:|:----------:|:----------------------:|\n",
    "|    1    |   Default  |         91.2%          |\n",
    "|    2    | GridSearch |          92.957%       |"
   ]
  },
  {
   "cell_type": "markdown",
   "id": "alpha-cement",
   "metadata": {},
   "source": [
    "### KNeighborsClassifier\n",
    "\n",
    "The third model we used was KNeighborsClassifier with GridSearch to get us the best parameters we could use."
   ]
  },
  {
   "cell_type": "markdown",
   "id": "induced-reflection",
   "metadata": {},
   "source": [
    "#### Default"
   ]
  },
  {
   "cell_type": "code",
   "execution_count": 14,
   "id": "thermal-boundary",
   "metadata": {},
   "outputs": [
    {
     "name": "stdout",
     "output_type": "stream",
     "text": [
      "0.9398501762632199\n"
     ]
    }
   ],
   "source": [
    "from sklearn.neighbors import KNeighborsClassifier\n",
    "\n",
    "clf = KNeighborsClassifier()\n",
    "clf.fit(x_train, y_train.values.ravel())\n",
    "\n",
    "scores = cross_val_score(clf, x_train, y_train.values.ravel(), cv=10, scoring='accuracy')\n",
    "print(scores.mean())"
   ]
  },
  {
   "cell_type": "markdown",
   "id": "suffering-technician",
   "metadata": {},
   "source": [
    "#### GridSearchCV"
   ]
  },
  {
   "cell_type": "code",
   "execution_count": 15,
   "id": "raised-context",
   "metadata": {},
   "outputs": [
    {
     "name": "stdout",
     "output_type": "stream",
     "text": [
      "0.9246827262044655\n"
     ]
    }
   ],
   "source": [
    "from sklearn.neighbors import KNeighborsClassifier\n",
    "\n",
    "parameters_K = {\n",
    "    \"n_neighbors\":np.arange(1,500,50),\n",
    "    \"weights\": [\"uniform\",  \"distance\"],\n",
    "    \"leaf_size\": np.arange(1,1000,50)\n",
    "}\n",
    "\n",
    "clf = GridSearchCV(KNeighborsClassifier(), parameters_K,scoring='accuracy',refit=True,cv=2, n_jobs=-1)\n",
    "clf.fit(x_train, y_train.values.ravel())\n",
    "\n",
    "scores = cross_val_score(clf, x_train, y_train.values.ravel(), cv=10, scoring='accuracy')\n",
    "print(scores.mean())"
   ]
  },
  {
   "cell_type": "markdown",
   "id": "sacred-london",
   "metadata": {},
   "source": [
    "#### Results\n",
    "\n",
    "| Attempt | Parameters | **Accuracy on Kaggle** |\n",
    "|:-------:|:----------:|:----------------------:|\n",
    "|    1    |   Default  |             93.0%      |\n",
    "|    2    | GridSearch |           95.0%        |"
   ]
  },
  {
   "cell_type": "markdown",
   "id": "rapid-sender",
   "metadata": {},
   "source": [
    "### LogisticRegression\n",
    "\n",
    "The forth model we used was LogisticRegression with GridSearch to get us the best parameters we could use."
   ]
  },
  {
   "cell_type": "code",
   "execution_count": 16,
   "id": "quantitative-flavor",
   "metadata": {},
   "outputs": [
    {
     "name": "stdout",
     "output_type": "stream",
     "text": [
      "0.9436603995299647\n"
     ]
    }
   ],
   "source": [
    "from sklearn.linear_model import LogisticRegression\n",
    "\n",
    "parameters_L = {\n",
    "    \"C\":np.arange(1,701,50),\n",
    "    \"penalty\": [\"l1\",\"l2\"],\n",
    "    \"solver\": [\"liblinear\",],\n",
    "    \"tol\": [1e-4],\n",
    "    \"max_iter\": np.arange(1000,7001,1000),\n",
    "    \"intercept_scaling\":np.arange(1,701,50),\n",
    "    \"multi_class\":[\"auto\"],\n",
    "    }\n",
    "\n",
    "clf = GridSearchCV(LogisticRegression(), parameters_L,scoring='accuracy',refit=True,cv=2, n_jobs=-1)\n",
    "clf.fit(x_train, y_train.values.ravel())\n",
    "\n",
    "scores = cross_val_score(clf, x_train, y_train.values.ravel(), cv=10, scoring='accuracy')\n",
    "print(scores.mean())"
   ]
  },
  {
   "cell_type": "markdown",
   "id": "anonymous-custom",
   "metadata": {},
   "source": [
    "#### Results\n",
    "\n",
    "We got an accuracy of 95.8% on **Kaggle**."
   ]
  },
  {
   "cell_type": "markdown",
   "id": "packed-declaration",
   "metadata": {},
   "source": [
    "### Conclusion\n",
    "\n",
    "The **model** that gave us the best accuracy was `LogisticRegression` with **95.8%**\n",
    "\n",
    "Making this work showed us how the models are important in machine-learning to predict the results, in this example we are trying to predict if a student is going to drop out or not. For the solution to be trustfull:\n",
    "\n",
    "- We need to understand the data first: merge and spliting the usefull data.\n",
    "\n",
    "- Choose the best model or strategy based on the data, because some models work better with different types of data.\n",
    "\n",
    "- Adjusting the model to get the best performance: validating the model, letting us get the best parameters.\n",
    "\n",
    "- Check if the final model can solve the problem."
   ]
  }
 ],
 "metadata": {
  "kernelspec": {
   "display_name": "Python 3",
   "language": "python",
   "name": "python3"
  },
  "language_info": {
   "codemirror_mode": {
    "name": "ipython",
    "version": 3
   },
   "file_extension": ".py",
   "mimetype": "text/x-python",
   "name": "python",
   "nbconvert_exporter": "python",
   "pygments_lexer": "ipython3",
   "version": "3.6.9"
  }
 },
 "nbformat": 4,
 "nbformat_minor": 5
}
